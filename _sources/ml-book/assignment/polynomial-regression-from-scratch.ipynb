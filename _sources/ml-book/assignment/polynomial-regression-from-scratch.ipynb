{
 "cells": [
  {
   "cell_type": "markdown",
   "metadata": {
    "id": "MF47DSPemrnX",
    "papermill": {
     "duration": 0.043495,
     "end_time": "2024-05-01T07:14:50.802325",
     "exception": false,
     "start_time": "2024-05-01T07:14:50.758830",
     "status": "completed"
    },
    "tags": []
   },
   "source": [
    "# Polynomial Regression  from Scratch\n",
    "\n",
    "In this assignment, first, you need to implement Polynomial Regression from Scratch using Numpy without Sklearn. After the scratch implementation, we also use the Polynomial Regression using Sklearn and compare the two models. `Your main task is to improve the code from Polynomial Regression from Scratch`"
   ]
  },
  {
   "cell_type": "markdown",
   "metadata": {
    "id": "bGjv_UdtP999",
    "papermill": {
     "duration": 0.040152,
     "end_time": "2024-05-01T07:14:50.883410",
     "exception": false,
     "start_time": "2024-05-01T07:14:50.843258",
     "status": "completed"
    },
    "tags": []
   },
   "source": [
    "## Introduction"
   ]
  },
  {
   "cell_type": "markdown",
   "metadata": {
    "id": "klk23LsZQC0M",
    "papermill": {
     "duration": 0.040015,
     "end_time": "2024-05-01T07:14:50.963869",
     "exception": false,
     "start_time": "2024-05-01T07:14:50.923854",
     "status": "completed"
    },
    "tags": []
   },
   "source": [
    "\n",
    "\n",
    "**Response Variable** : Position\n",
    "\n",
    "**Target Variable** : Salary\n",
    "\n",
    "**Equation Used** : $y = W0 * X0 + W1 * X1 + W2 * X1^{2} + .... + WN * X1^{N}$\n",
    "\n",
    "**Why Linear?**\n",
    "\n",
    "A genuine question can be \"If the equation contain powers greater than one, how come it is **linear** regression?\" It's a great question! Note that the powers of $X$ are greater than one and these are actually constants. We have these values in our dataset. We care more about $W$ and the equation combines these product of $W$ and $X$ linearly i.e it has the linear combination of these terms.\n",
    "\n",
    "\n",
    "**For Scratch Implementation:**\n",
    "    \n",
    "    Loss Function : Squared Error\n",
    "\n",
    "    Optimization Algorithm : SGD\n",
    "\n",
    "    Weight Initialization : Xavier Initialization\n",
    "\n"
   ]
  },
  {
   "cell_type": "markdown",
   "metadata": {
    "id": "saI5S98Fkvx8",
    "papermill": {
     "duration": 0.040236,
     "end_time": "2024-05-01T07:14:51.046250",
     "exception": false,
     "start_time": "2024-05-01T07:14:51.006014",
     "status": "completed"
    },
    "tags": []
   },
   "source": [
    "## Polynomial Regression from Scratch without SKlearn"
   ]
  },
  {
   "cell_type": "markdown",
   "metadata": {
    "id": "DXvL5a1RlAzE",
    "papermill": {
     "duration": 0.04045,
     "end_time": "2024-05-01T07:14:51.127230",
     "exception": false,
     "start_time": "2024-05-01T07:14:51.086780",
     "status": "completed"
    },
    "tags": []
   },
   "source": [
    "### Importing the Dependencies"
   ]
  },
  {
   "cell_type": "code",
   "execution_count": 101,
   "metadata": {
    "execution": {
     "iopub.execute_input": "2024-05-01T07:14:51.214695Z",
     "iopub.status.busy": "2024-05-01T07:14:51.213740Z",
     "iopub.status.idle": "2024-05-01T07:14:51.216300Z",
     "shell.execute_reply": "2024-05-01T07:14:51.216835Z",
     "shell.execute_reply.started": "2024-05-01T07:12:46.480846Z"
    },
    "id": "GXI1413Foust",
    "papermill": {
     "duration": 0.049517,
     "end_time": "2024-05-01T07:14:51.217158",
     "exception": false,
     "start_time": "2024-05-01T07:14:51.167641",
     "status": "completed"
    },
    "tags": []
   },
   "outputs": [],
   "source": [
    "#importing the required packages\n",
    "import numpy as np\n",
    "import pandas as pd\n",
    "import matplotlib.pyplot as plt"
   ]
  },
  {
   "cell_type": "markdown",
   "metadata": {
    "id": "s0J-6GLhlFxE",
    "papermill": {
     "duration": 0.039825,
     "end_time": "2024-05-01T07:14:51.297325",
     "exception": false,
     "start_time": "2024-05-01T07:14:51.257500",
     "status": "completed"
    },
    "tags": []
   },
   "source": [
    "### Get the Data and Data Preprocessing"
   ]
  },
  {
   "cell_type": "code",
   "execution_count": 102,
   "metadata": {
    "execution": {
     "iopub.execute_input": "2024-05-01T07:14:51.461921Z",
     "iopub.status.busy": "2024-05-01T07:14:51.461277Z",
     "iopub.status.idle": "2024-05-01T07:14:51.480848Z",
     "shell.execute_reply": "2024-05-01T07:14:51.481377Z",
     "shell.execute_reply.started": "2024-05-01T07:12:46.490091Z"
    },
    "id": "Kr3QiE8Jf3Pa",
    "papermill": {
     "duration": 0.063269,
     "end_time": "2024-05-01T07:14:51.481620",
     "exception": false,
     "start_time": "2024-05-01T07:14:51.418351",
     "status": "completed"
    },
    "tags": []
   },
   "outputs": [],
   "source": [
    "#Get the dataset\n",
    "dataset = pd.read_csv(r'../../dataset/Position_Salaries.csv')"
   ]
  },
  {
   "cell_type": "code",
   "execution_count": 103,
   "metadata": {
    "execution": {
     "iopub.execute_input": "2024-05-01T07:14:51.566085Z",
     "iopub.status.busy": "2024-05-01T07:14:51.565381Z",
     "iopub.status.idle": "2024-05-01T07:14:51.591492Z",
     "shell.execute_reply": "2024-05-01T07:14:51.592043Z",
     "shell.execute_reply.started": "2024-05-01T07:12:46.515554Z"
    },
    "id": "y8hHhyM1BuIb",
    "outputId": "1d98839e-25da-4674-ecf8-fd57ce5dc466",
    "papermill": {
     "duration": 0.069933,
     "end_time": "2024-05-01T07:14:51.592240",
     "exception": false,
     "start_time": "2024-05-01T07:14:51.522307",
     "status": "completed"
    },
    "tags": []
   },
   "outputs": [
    {
     "data": {
      "text/html": [
       "<div>\n",
       "<style scoped>\n",
       "    .dataframe tbody tr th:only-of-type {\n",
       "        vertical-align: middle;\n",
       "    }\n",
       "\n",
       "    .dataframe tbody tr th {\n",
       "        vertical-align: top;\n",
       "    }\n",
       "\n",
       "    .dataframe thead th {\n",
       "        text-align: right;\n",
       "    }\n",
       "</style>\n",
       "<table border=\"1\" class=\"dataframe\">\n",
       "  <thead>\n",
       "    <tr style=\"text-align: right;\">\n",
       "      <th></th>\n",
       "      <th>Position</th>\n",
       "      <th>Level</th>\n",
       "      <th>Salary</th>\n",
       "    </tr>\n",
       "  </thead>\n",
       "  <tbody>\n",
       "    <tr>\n",
       "      <th>0</th>\n",
       "      <td>Business Analyst</td>\n",
       "      <td>1</td>\n",
       "      <td>45000</td>\n",
       "    </tr>\n",
       "    <tr>\n",
       "      <th>1</th>\n",
       "      <td>Junior Consultant</td>\n",
       "      <td>2</td>\n",
       "      <td>50000</td>\n",
       "    </tr>\n",
       "    <tr>\n",
       "      <th>2</th>\n",
       "      <td>Senior Consultant</td>\n",
       "      <td>3</td>\n",
       "      <td>60000</td>\n",
       "    </tr>\n",
       "    <tr>\n",
       "      <th>3</th>\n",
       "      <td>Manager</td>\n",
       "      <td>4</td>\n",
       "      <td>80000</td>\n",
       "    </tr>\n",
       "    <tr>\n",
       "      <th>4</th>\n",
       "      <td>Country Manager</td>\n",
       "      <td>5</td>\n",
       "      <td>110000</td>\n",
       "    </tr>\n",
       "  </tbody>\n",
       "</table>\n",
       "</div>"
      ],
      "text/plain": [
       "            Position  Level  Salary\n",
       "0   Business Analyst      1   45000\n",
       "1  Junior Consultant      2   50000\n",
       "2  Senior Consultant      3   60000\n",
       "3            Manager      4   80000\n",
       "4    Country Manager      5  110000"
      ]
     },
     "execution_count": 103,
     "metadata": {},
     "output_type": "execute_result"
    }
   ],
   "source": [
    "#Get a glimpse of the Dataset\n",
    "dataset.head()"
   ]
  },
  {
   "cell_type": "code",
   "execution_count": 104,
   "metadata": {
    "execution": {
     "iopub.execute_input": "2024-05-01T07:14:51.679961Z",
     "iopub.status.busy": "2024-05-01T07:14:51.679263Z",
     "iopub.status.idle": "2024-05-01T07:14:51.684905Z",
     "shell.execute_reply": "2024-05-01T07:14:51.684332Z",
     "shell.execute_reply.started": "2024-05-01T07:12:46.549513Z"
    },
    "id": "ake97iPi8_I7",
    "papermill": {
     "duration": 0.051087,
     "end_time": "2024-05-01T07:14:51.685079",
     "exception": false,
     "start_time": "2024-05-01T07:14:51.633992",
     "status": "completed"
    },
    "tags": []
   },
   "outputs": [],
   "source": [
    "#Separating the independent and dependent features\n",
    "#Dependent feature\n",
    "y = np.asarray(dataset['Salary'].values.tolist()) \n",
    "\n",
    "# Independent Feature\n",
    "X = np.asarray(dataset['Level'].values.tolist())"
   ]
  },
  {
   "cell_type": "code",
   "execution_count": 105,
   "metadata": {
    "execution": {
     "iopub.execute_input": "2024-05-01T07:14:51.774028Z",
     "iopub.status.busy": "2024-05-01T07:14:51.773352Z",
     "iopub.status.idle": "2024-05-01T07:14:51.775724Z",
     "shell.execute_reply": "2024-05-01T07:14:51.776209Z",
     "shell.execute_reply.started": "2024-05-01T07:12:46.559920Z"
    },
    "id": "kg7PYvQJw0Ry",
    "papermill": {
     "duration": 0.048365,
     "end_time": "2024-05-01T07:14:51.776379",
     "exception": false,
     "start_time": "2024-05-01T07:14:51.728014",
     "status": "completed"
    },
    "tags": []
   },
   "outputs": [
    {
     "data": {
      "text/plain": [
       "array([[ 1],\n",
       "       [ 2],\n",
       "       [ 3],\n",
       "       [ 4],\n",
       "       [ 5],\n",
       "       [ 6],\n",
       "       [ 7],\n",
       "       [ 8],\n",
       "       [ 9],\n",
       "       [10]])"
      ]
     },
     "execution_count": 105,
     "metadata": {},
     "output_type": "execute_result"
    }
   ],
   "source": [
    "# Reshaping the independent feature\n",
    "X = X.reshape(-1,1)\n",
    "X"
   ]
  },
  {
   "cell_type": "code",
   "execution_count": 106,
   "metadata": {
    "execution": {
     "iopub.execute_input": "2024-05-01T07:14:51.861588Z",
     "iopub.status.busy": "2024-05-01T07:14:51.860941Z",
     "iopub.status.idle": "2024-05-01T07:14:51.866158Z",
     "shell.execute_reply": "2024-05-01T07:14:51.866673Z",
     "shell.execute_reply.started": "2024-05-01T07:13:00.544621Z"
    },
    "id": "iZhxeXCPi8Rd",
    "papermill": {
     "duration": 0.049613,
     "end_time": "2024-05-01T07:14:51.866857",
     "exception": false,
     "start_time": "2024-05-01T07:14:51.817244",
     "status": "completed"
    },
    "tags": []
   },
   "outputs": [
    {
     "data": {
      "text/plain": [
       "array([[  45000],\n",
       "       [  50000],\n",
       "       [  60000],\n",
       "       [  80000],\n",
       "       [ 110000],\n",
       "       [ 150000],\n",
       "       [ 200000],\n",
       "       [ 300000],\n",
       "       [ 500000],\n",
       "       [1000000]])"
      ]
     },
     "execution_count": 106,
     "metadata": {},
     "output_type": "execute_result"
    }
   ],
   "source": [
    "#Reshaping the Dependent features\n",
    "y = y.reshape(len(y),1) # Changing the shape from (50,) to (50,1)\n",
    "y"
   ]
  },
  {
   "cell_type": "code",
   "execution_count": 107,
   "metadata": {
    "execution": {
     "iopub.execute_input": "2024-05-01T07:14:51.956240Z",
     "iopub.status.busy": "2024-05-01T07:14:51.954827Z",
     "iopub.status.idle": "2024-05-01T07:14:51.962076Z",
     "shell.execute_reply": "2024-05-01T07:14:51.962609Z",
     "shell.execute_reply.started": "2024-05-01T07:12:46.586573Z"
    },
    "id": "DaSyDT_fGlf5",
    "outputId": "0027396b-6d9a-4e27-d182-bd1e0de2baf8",
    "papermill": {
     "duration": 0.054717,
     "end_time": "2024-05-01T07:14:51.962807",
     "exception": false,
     "start_time": "2024-05-01T07:14:51.908090",
     "status": "completed"
    },
    "tags": []
   },
   "outputs": [
    {
     "name": "stdout",
     "output_type": "stream",
     "text": [
      "The shape of the independent fatures are  (10, 1)\n",
      "The shape of the dependent fatures are  (10, 1)\n"
     ]
    }
   ],
   "source": [
    "#Get the shapes of X and y\n",
    "print(\"The shape of the independent fatures are \",X.shape)\n",
    "print(\"The shape of the dependent fatures are \",y.shape)"
   ]
  },
  {
   "cell_type": "markdown",
   "metadata": {
    "id": "TEAUmgwclN5d",
    "papermill": {
     "duration": 0.04126,
     "end_time": "2024-05-01T07:14:52.056165",
     "exception": false,
     "start_time": "2024-05-01T07:14:52.014905",
     "status": "completed"
    },
    "tags": []
   },
   "source": [
    "### Utility Methods"
   ]
  },
  {
   "cell_type": "code",
   "execution_count": 108,
   "metadata": {
    "execution": {
     "iopub.execute_input": "2024-05-01T07:14:52.154584Z",
     "iopub.status.busy": "2024-05-01T07:14:52.153616Z",
     "iopub.status.idle": "2024-05-01T07:14:52.159441Z",
     "shell.execute_reply": "2024-05-01T07:14:52.160036Z",
     "shell.execute_reply.started": "2024-05-01T07:12:46.602708Z"
    },
    "id": "Rl7z014BRVlI",
    "papermill": {
     "duration": 0.062395,
     "end_time": "2024-05-01T07:14:52.160226",
     "exception": false,
     "start_time": "2024-05-01T07:14:52.097831",
     "status": "completed"
    },
    "tags": []
   },
   "outputs": [],
   "source": [
    "# The method \"poly_features\" concatenates polynomials of independent feature to X\n",
    "# This is similar to PolynomialFeatures class from sklearn.preprocessing\n",
    "def poly_features(features, X):\n",
    "  \"\"\"\n",
    "  Generate polynomial features up to the specified degree.\n",
    "\n",
    "  Args:\n",
    "      features (int): The number of polynomial features to generate.\n",
    "      X (ndarray): The input features.\n",
    "\n",
    "  Returns:\n",
    "      X_poly: An array containing polynomial features up to the specified degree.\n",
    "  \"\"\"\n",
    "  # Create a DataFrame to store the polynomial features\n",
    "  data = pd.DataFrame(np.zeros((X.shape[0],features)))\n",
    "\n",
    "  # Iterate through each degree and calculate polynomial features\n",
    "  for i in range(1,___):\n",
    "\n",
    "    # Calculate polynomial features for the current degree and store in the DataFrame\n",
    "    data.iloc[:,___] = (X**i).reshape(-1,1)\n",
    "    \n",
    "  # Convert the DataFrame to a numpy array\n",
    "  X_poly = np.array(data.values.tolist())\n",
    "\n",
    "  return X_poly"
   ]
  },
  {
   "cell_type": "code",
   "execution_count": 109,
   "metadata": {
    "execution": {
     "iopub.execute_input": "2024-05-01T07:14:52.258483Z",
     "iopub.status.busy": "2024-05-01T07:14:52.257531Z",
     "iopub.status.idle": "2024-05-01T07:14:52.264900Z",
     "shell.execute_reply": "2024-05-01T07:14:52.265371Z",
     "shell.execute_reply.started": "2024-05-01T07:12:46.613369Z"
    },
    "id": "sMFw3Ps4IjIY",
    "papermill": {
     "duration": 0.056319,
     "end_time": "2024-05-01T07:14:52.265601",
     "exception": false,
     "start_time": "2024-05-01T07:14:52.209282",
     "status": "completed"
    },
    "tags": []
   },
   "outputs": [],
   "source": [
    "# The method \"split_data\" splits the given dataset into trainset and testset\n",
    "# This is similar to the method \"train_test_split\" from \"sklearn.model_selection\"\n",
    "def split_data(X,y,test_size=0.2,random_state=0):\n",
    "\n",
    "    # Set the seed for reproducible results\n",
    "    np.random.seed(___)           \n",
    "\n",
    "    # Shuffle the indices of the dataset\n",
    "    indices = np.random.permutation(___)\n",
    "\n",
    "    # Calculate the size of the test set\n",
    "    data_test_size = int(X.shape[0] * ___) \n",
    "\n",
    "    #Separating the Independent and Dependent features into the Train and Test Set\n",
    "    train_indices = indices[___]\n",
    "    test_indices = indices[___]\n",
    "    X_train = X[___]\n",
    "    y_train = y[___]\n",
    "    X_test = X[___]\n",
    "    y_test = y[___]\n",
    "    \n",
    "    return X_train, y_train, X_test, y_test"
   ]
  },
  {
   "cell_type": "code",
   "execution_count": 110,
   "metadata": {
    "execution": {
     "iopub.execute_input": "2024-05-01T07:14:52.352660Z",
     "iopub.status.busy": "2024-05-01T07:14:52.351978Z",
     "iopub.status.idle": "2024-05-01T07:14:52.356188Z",
     "shell.execute_reply": "2024-05-01T07:14:52.356744Z",
     "shell.execute_reply.started": "2024-05-01T07:12:46.633971Z"
    },
    "id": "RvTLCV2VqAZ4",
    "papermill": {
     "duration": 0.0496,
     "end_time": "2024-05-01T07:14:52.356931",
     "exception": false,
     "start_time": "2024-05-01T07:14:52.307331",
     "status": "completed"
    },
    "tags": []
   },
   "outputs": [],
   "source": [
    "# The method pred_to_plot returns predictions on given values and helps in\n",
    "# better visualization\n",
    "def pred_to_plot(W_trained, X):\n",
    "  prediction_values = list()\n",
    "  for i in range(X.shape[0]):\n",
    "    value = regressor.predict(W_trained,X[i])\n",
    "    prediction_values.append(value)\n",
    "  return prediction_values"
   ]
  },
  {
   "cell_type": "markdown",
   "metadata": {
    "id": "pjKljivClbWf",
    "papermill": {
     "duration": 0.046153,
     "end_time": "2024-05-01T07:14:52.456582",
     "exception": false,
     "start_time": "2024-05-01T07:14:52.410429",
     "status": "completed"
    },
    "tags": []
   },
   "source": [
    "### Coding the polynomialRegression Class"
   ]
  },
  {
   "cell_type": "code",
   "execution_count": 111,
   "metadata": {
    "execution": {
     "iopub.execute_input": "2024-05-01T07:14:52.544837Z",
     "iopub.status.busy": "2024-05-01T07:14:52.544096Z",
     "iopub.status.idle": "2024-05-01T07:14:52.559946Z",
     "shell.execute_reply": "2024-05-01T07:14:52.559314Z",
     "shell.execute_reply.started": "2024-05-01T07:12:46.703015Z"
    },
    "id": "mBt41FyrunIl",
    "papermill": {
     "duration": 0.061555,
     "end_time": "2024-05-01T07:14:52.560120",
     "exception": false,
     "start_time": "2024-05-01T07:14:52.498565",
     "status": "completed"
    },
    "tags": []
   },
   "outputs": [],
   "source": [
    "class polynomialRegression():\n",
    "\n",
    "  def __init__(self):\n",
    "    #No instance Variables required\n",
    "    pass\n",
    "\n",
    "  def forward(self,X,y,W):\n",
    "    \"\"\"\n",
    "    Parameters:\n",
    "    X (array) : Independent Features\n",
    "    y (array) : Dependent Features/ Target Variable\n",
    "    W (array) : Weights \n",
    "\n",
    "    Returns:\n",
    "    loss (float) : Calculated Sqaured Error Loss for y and y_pred\n",
    "    y_pred (array) : Predicted Target Variable\n",
    "    \"\"\"\n",
    "    y_pred = sum(___ * ___)\n",
    "    loss = ((___-___)**2)/2    #Loss = Squared Error, we introduce 1/2 for ease in the calculation\n",
    "    return loss, y_pred\n",
    "\n",
    "  def updateWeights(self,X,y_pred,y_true,W,alpha,index):\n",
    "    \"\"\"\n",
    "    Parameters:\n",
    "    X (array) : Independent Features\n",
    "    y_pred (array) : Predicted Target Variable\n",
    "    y_true (array) : Dependent Features/ Target Variable\n",
    "    W (array) : Weights\n",
    "    alpha (float) : learning rate\n",
    "    index (int) : Index to fetch the corresponding values of W, X and y \n",
    "\n",
    "    Returns:\n",
    "    W (array) : Update Values of Weight\n",
    "    \"\"\"\n",
    "    for i in range(X.shape[1]):\n",
    "      #alpha = learning rate, rest of the RHS is derivative of loss function\n",
    "      W[i] -= (alpha * (___-___[index])*X[index][i]) \n",
    "    return W\n",
    "\n",
    "  def train(self, X, y, epochs=10, alpha=0.001, random_state=0):\n",
    "    \"\"\"\n",
    "    Parameters:\n",
    "    X (array) : Independent Feature\n",
    "    y (array) : Dependent Features/ Target Variable\n",
    "    epochs (int) : Number of epochs for training, default value is 10\n",
    "    alpha (float) : learning rate, default value is 0.001\n",
    "\n",
    "    Returns:\n",
    "    y_pred (array) : Predicted Target Variable\n",
    "    loss (float) : Calculated Sqaured Error Loss for y and y_pred\n",
    "    \"\"\"\n",
    "\n",
    "    num_rows = X.shape[0] #Number of Rows\n",
    "    num_cols = X.shape[1] #Number of Columns \n",
    "    W = np.random.randn(1,num_cols) / np.sqrt(num_rows) #Weight Initialization\n",
    "\n",
    "    #Calculating Loss and Updating Weights\n",
    "    train_loss = []\n",
    "    num_epochs = []\n",
    "    train_indices = [i for i in range(X.shape[0])]\n",
    "    for j in range(epochs):\n",
    "      cost=0\n",
    "      np.random.seed(random_state)\n",
    "      np.random.shuffle(train_indices)\n",
    "      for i in train_indices:\n",
    "        loss, y_pred = self.forward(X[i],y[i],W[0])\n",
    "        cost+=loss\n",
    "        W[0] = self.updateWeights(X,y_pred,y,W[0],alpha,i)\n",
    "      train_loss.append(cost)\n",
    "      num_epochs.append(j)\n",
    "    return W[0], train_loss, num_epochs\n",
    "\n",
    "  def test(self, X_test, y_test, W_trained):\n",
    "    \"\"\"\n",
    "    Parameters:\n",
    "    X_test (array) : Independent Features from the Test Set\n",
    "    y_test (array) : Dependent Features/ Target Variable from the Test Set\n",
    "    W_trained (array) : Trained Weights\n",
    "    test_indices (list) : Index to fetch the corresponding values of W_trained,\n",
    "                          X_test and y_test \n",
    "\n",
    "    Returns:\n",
    "    test_pred (list) : Predicted Target Variable\n",
    "    test_loss (list) : Calculated Sqaured Error Loss for y and y_pred\n",
    "    \"\"\"\n",
    "    test_pred = []\n",
    "    test_loss = []\n",
    "    test_indices = [i for i in range(X_test.shape[0])]\n",
    "    for i in test_indices:\n",
    "        #tips: def forward(self,X,y,W)\n",
    "        loss, y_test_pred = self.forward(___, ___, ___)\n",
    "        \n",
    "        test_pred.append(y_test_pred)\n",
    "        test_loss.append(loss)\n",
    "    return test_pred, test_loss\n",
    "    \n",
    "\n",
    "  def predict(self, W_trained, X_sample):\n",
    "    prediction = sum(W_trained * X_sample)\n",
    "    return prediction\n",
    "\n",
    "  def plotLoss(self, loss, epochs):\n",
    "    \"\"\"\n",
    "    Parameters:\n",
    "    loss (list) : Calculated Sqaured Error Loss for y and y_pred\n",
    "    epochs (list): Number of Epochs\n",
    "\n",
    "    Returns: None\n",
    "    Plots a graph of Loss vs Epochs\n",
    "    \"\"\"\n",
    "    plt.plot(epochs, loss)\n",
    "    plt.xlabel('Number of Epochs')\n",
    "    plt.ylabel('Loss')\n",
    "    plt.title('Plot Loss')\n",
    "    plt.show()\n",
    "  \n"
   ]
  },
  {
   "cell_type": "markdown",
   "metadata": {
    "id": "KL3sFhd5sJ85",
    "papermill": {
     "duration": 0.041581,
     "end_time": "2024-05-01T07:14:52.644164",
     "exception": false,
     "start_time": "2024-05-01T07:14:52.602583",
     "status": "completed"
    },
    "tags": []
   },
   "source": [
    "### Polynomial Regression (N = 2)"
   ]
  },
  {
   "cell_type": "markdown",
   "metadata": {
    "id": "YSkVe04GqPzi",
    "papermill": {
     "duration": 0.041633,
     "end_time": "2024-05-01T07:14:52.727667",
     "exception": false,
     "start_time": "2024-05-01T07:14:52.686034",
     "status": "completed"
    },
    "tags": []
   },
   "source": [
    "Consider the Polynomial Regression equation, we need to decide the value of $N$ with respect to the Data. Here, we choose the value $N=2$. Definitely, we can iterate over various values of $N$, after the initial results. However, first, we need to create another column $Level^{2}$, since it's our Independent Feature."
   ]
  },
  {
   "cell_type": "code",
   "execution_count": 112,
   "metadata": {
    "execution": {
     "iopub.execute_input": "2024-05-01T07:14:52.817597Z",
     "iopub.status.busy": "2024-05-01T07:14:52.816668Z",
     "iopub.status.idle": "2024-05-01T07:14:52.819649Z",
     "shell.execute_reply": "2024-05-01T07:14:52.819097Z",
     "shell.execute_reply.started": "2024-05-01T07:12:46.732818Z"
    },
    "id": "95algiQxXZGB",
    "papermill": {
     "duration": 0.049821,
     "end_time": "2024-05-01T07:14:52.819812",
     "exception": false,
     "start_time": "2024-05-01T07:14:52.769991",
     "status": "completed"
    },
    "tags": []
   },
   "outputs": [],
   "source": [
    "# Independent Feature\n",
    "X = np.asarray(dataset['Level'].values.tolist())"
   ]
  },
  {
   "cell_type": "code",
   "execution_count": 113,
   "metadata": {
    "execution": {
     "iopub.execute_input": "2024-05-01T07:14:52.908798Z",
     "iopub.status.busy": "2024-05-01T07:14:52.907980Z",
     "iopub.status.idle": "2024-05-01T07:14:52.910778Z",
     "shell.execute_reply": "2024-05-01T07:14:52.910250Z",
     "shell.execute_reply.started": "2024-05-01T07:12:46.746166Z"
    },
    "id": "8A83aFOEXZpY",
    "papermill": {
     "duration": 0.049026,
     "end_time": "2024-05-01T07:14:52.910932",
     "exception": false,
     "start_time": "2024-05-01T07:14:52.861906",
     "status": "completed"
    },
    "tags": []
   },
   "outputs": [],
   "source": [
    "# Reshaping the independent feature\n",
    "X = X.reshape(-1,1)"
   ]
  },
  {
   "cell_type": "code",
   "execution_count": 114,
   "metadata": {
    "execution": {
     "iopub.execute_input": "2024-05-01T07:14:53.001561Z",
     "iopub.status.busy": "2024-05-01T07:14:53.000576Z",
     "iopub.status.idle": "2024-05-01T07:14:53.004573Z",
     "shell.execute_reply": "2024-05-01T07:14:53.003909Z",
     "shell.execute_reply.started": "2024-05-01T07:12:46.759686Z"
    },
    "id": "_r457PtZX6JZ",
    "outputId": "7b068e56-667b-4371-8216-7c0b544c0696",
    "papermill": {
     "duration": 0.051991,
     "end_time": "2024-05-01T07:14:53.004735",
     "exception": false,
     "start_time": "2024-05-01T07:14:52.952744",
     "status": "completed"
    },
    "tags": []
   },
   "outputs": [
    {
     "data": {
      "text/plain": [
       "array([[ 1],\n",
       "       [ 2],\n",
       "       [ 3],\n",
       "       [ 4],\n",
       "       [ 5],\n",
       "       [ 6],\n",
       "       [ 7],\n",
       "       [ 8],\n",
       "       [ 9],\n",
       "       [10]])"
      ]
     },
     "execution_count": 114,
     "metadata": {},
     "output_type": "execute_result"
    }
   ],
   "source": [
    "X"
   ]
  },
  {
   "cell_type": "code",
   "execution_count": 115,
   "metadata": {
    "execution": {
     "iopub.execute_input": "2024-05-01T07:14:53.095273Z",
     "iopub.status.busy": "2024-05-01T07:14:53.094312Z",
     "iopub.status.idle": "2024-05-01T07:14:53.100184Z",
     "shell.execute_reply": "2024-05-01T07:14:53.100772Z",
     "shell.execute_reply.started": "2024-05-01T07:12:46.776290Z"
    },
    "id": "qXnThaRhVFWN",
    "papermill": {
     "duration": 0.053121,
     "end_time": "2024-05-01T07:14:53.100984",
     "exception": false,
     "start_time": "2024-05-01T07:14:53.047863",
     "status": "completed"
    },
    "tags": []
   },
   "outputs": [
    {
     "name": "stderr",
     "output_type": "stream",
     "text": [
      "C:\\Users\\Administrator\\AppData\\Local\\Temp\\ipykernel_2680\\424119940.py:21: FutureWarning: In a future version, `df.iloc[:, i] = newvals` will attempt to set the values inplace instead of always setting a new array. To retain the old behavior, use either `df[df.columns[i]] = newvals` or, if columns are non-unique, `df.isetitem(i, newvals)`\n",
      "  data.iloc[:,i-1] = (X**i).reshape(-1,1)\n"
     ]
    },
    {
     "data": {
      "text/plain": [
       "array([[  1,   1],\n",
       "       [  2,   4],\n",
       "       [  3,   9],\n",
       "       [  4,  16],\n",
       "       [  5,  25],\n",
       "       [  6,  36],\n",
       "       [  7,  49],\n",
       "       [  8,  64],\n",
       "       [  9,  81],\n",
       "       [ 10, 100]])"
      ]
     },
     "execution_count": 115,
     "metadata": {},
     "output_type": "execute_result"
    }
   ],
   "source": [
    "X = poly_features(2,X)"
   ]
  },
  {
   "cell_type": "code",
   "execution_count": null,
   "metadata": {},
   "outputs": [],
   "source": [
    "target_X = np.array([[1, 1], [2, 4],[3, 9],[4, 16],[5, 25],[6, 36],[7, 49],[8, 64],[9, 81],[10, 100]])\n",
    "assert np.array_equal(X, target_X)"
   ]
  },
  {
   "cell_type": "code",
   "execution_count": 116,
   "metadata": {
    "execution": {
     "iopub.execute_input": "2024-05-01T07:14:53.190346Z",
     "iopub.status.busy": "2024-05-01T07:14:53.189375Z",
     "iopub.status.idle": "2024-05-01T07:14:53.193893Z",
     "shell.execute_reply": "2024-05-01T07:14:53.194462Z",
     "shell.execute_reply.started": "2024-05-01T07:12:46.790196Z"
    },
    "id": "fw0PhGdmVFWU",
    "papermill": {
     "duration": 0.050038,
     "end_time": "2024-05-01T07:14:53.194662",
     "exception": false,
     "start_time": "2024-05-01T07:14:53.144624",
     "status": "completed"
    },
    "tags": []
   },
   "outputs": [],
   "source": [
    "#Adding the feature X0 = 1, so we have the equation: y =  W0 + (W1 * X1) + (W2 * (X1**2))\n",
    "X = np.concatenate((X,___.___((___,___))), axis = 1)"
   ]
  },
  {
   "cell_type": "code",
   "execution_count": null,
   "metadata": {},
   "outputs": [],
   "source": [
    "target_X = np.array([[1, 1, 1], [2, 4, 1],[3, 9, 1],[4, 16, 1],[5, 25, 1],[6, 36, 1],[7, 49, 1],[8, 64, 1],[9, 81, 1],[10, 100 , 1]])\n",
    "assert np.array_equal(X, target_X)"
   ]
  },
  {
   "cell_type": "code",
   "execution_count": 118,
   "metadata": {
    "execution": {
     "iopub.execute_input": "2024-05-01T07:14:53.377807Z",
     "iopub.status.busy": "2024-05-01T07:14:53.376987Z",
     "iopub.status.idle": "2024-05-01T07:14:53.380359Z",
     "shell.execute_reply": "2024-05-01T07:14:53.380890Z",
     "shell.execute_reply.started": "2024-05-01T07:12:46.824218Z"
    },
    "id": "uSO16vuAVFWU",
    "outputId": "58054c47-dc8a-411f-90e4-a31990f2add8",
    "papermill": {
     "duration": 0.051197,
     "end_time": "2024-05-01T07:14:53.381088",
     "exception": false,
     "start_time": "2024-05-01T07:14:53.329891",
     "status": "completed"
    },
    "tags": []
   },
   "outputs": [
    {
     "data": {
      "text/plain": [
       "array([[  45000],\n",
       "       [  50000],\n",
       "       [  60000],\n",
       "       [  80000],\n",
       "       [ 110000],\n",
       "       [ 150000],\n",
       "       [ 200000],\n",
       "       [ 300000],\n",
       "       [ 500000],\n",
       "       [1000000]])"
      ]
     },
     "execution_count": 118,
     "metadata": {},
     "output_type": "execute_result"
    }
   ],
   "source": [
    "y"
   ]
  },
  {
   "cell_type": "code",
   "execution_count": 119,
   "metadata": {
    "execution": {
     "iopub.execute_input": "2024-05-01T07:14:53.471826Z",
     "iopub.status.busy": "2024-05-01T07:14:53.470867Z",
     "iopub.status.idle": "2024-05-01T07:14:53.473758Z",
     "shell.execute_reply": "2024-05-01T07:14:53.473206Z",
     "shell.execute_reply.started": "2024-05-01T07:12:46.836590Z"
    },
    "id": "upP6PeVIVFWV",
    "papermill": {
     "duration": 0.049941,
     "end_time": "2024-05-01T07:14:53.473903",
     "exception": false,
     "start_time": "2024-05-01T07:14:53.423962",
     "status": "completed"
    },
    "tags": []
   },
   "outputs": [],
   "source": [
    "#Splitting the dataset\n",
    "X_train, y_train, X_test, y_test = split_data(X,y)"
   ]
  },
  {
   "cell_type": "code",
   "execution_count": 120,
   "metadata": {
    "execution": {
     "iopub.execute_input": "2024-05-01T07:14:53.566533Z",
     "iopub.status.busy": "2024-05-01T07:14:53.565180Z",
     "iopub.status.idle": "2024-05-01T07:14:53.568447Z",
     "shell.execute_reply": "2024-05-01T07:14:53.567916Z",
     "shell.execute_reply.started": "2024-05-01T07:12:46.847048Z"
    },
    "id": "XtPZ2MhQVFWV",
    "papermill": {
     "duration": 0.051587,
     "end_time": "2024-05-01T07:14:53.568649",
     "exception": false,
     "start_time": "2024-05-01T07:14:53.517062",
     "status": "completed"
    },
    "tags": []
   },
   "outputs": [],
   "source": [
    "#declaring the \"regressor\" as an object of the class polynomialRegression\n",
    "regressor = polynomialRegression()"
   ]
  },
  {
   "cell_type": "code",
   "execution_count": 121,
   "metadata": {
    "execution": {
     "iopub.execute_input": "2024-05-01T07:14:53.778671Z",
     "iopub.status.busy": "2024-05-01T07:14:53.774992Z",
     "iopub.status.idle": "2024-05-01T07:14:53.790501Z",
     "shell.execute_reply": "2024-05-01T07:14:53.789876Z",
     "shell.execute_reply.started": "2024-05-01T07:12:46.860653Z"
    },
    "id": "YBP-_YakVFWV",
    "papermill": {
     "duration": 0.177301,
     "end_time": "2024-05-01T07:14:53.790688",
     "exception": false,
     "start_time": "2024-05-01T07:14:53.613387",
     "status": "completed"
    },
    "tags": []
   },
   "outputs": [],
   "source": [
    "#Training \n",
    "W_trained, train_loss, num_epochs = regressor.train(X_train, y_train, epochs=200, alpha=0.00001)"
   ]
  },
  {
   "cell_type": "code",
   "execution_count": 122,
   "metadata": {
    "execution": {
     "iopub.execute_input": "2024-05-01T07:14:53.884579Z",
     "iopub.status.busy": "2024-05-01T07:14:53.883597Z",
     "iopub.status.idle": "2024-05-01T07:14:53.886863Z",
     "shell.execute_reply": "2024-05-01T07:14:53.886196Z",
     "shell.execute_reply.started": "2024-05-01T07:12:46.962571Z"
    },
    "id": "TdCPaTGhVFWV",
    "papermill": {
     "duration": 0.05158,
     "end_time": "2024-05-01T07:14:53.887020",
     "exception": false,
     "start_time": "2024-05-01T07:14:53.835440",
     "status": "completed"
    },
    "tags": []
   },
   "outputs": [],
   "source": [
    "#Testing on the Test Dataset\n",
    "test_pred, test_loss = regressor.test(X_test, y_test, W_trained)"
   ]
  },
  {
   "cell_type": "markdown",
   "metadata": {
    "id": "Y-mRXKlqVFWW",
    "papermill": {
     "duration": 0.042966,
     "end_time": "2024-05-01T07:14:53.973379",
     "exception": false,
     "start_time": "2024-05-01T07:14:53.930413",
     "status": "completed"
    },
    "tags": []
   },
   "source": [
    "#### Visualizing Results"
   ]
  },
  {
   "cell_type": "markdown",
   "metadata": {
    "id": "PrwuQURKdFuR",
    "papermill": {
     "duration": 0.042833,
     "end_time": "2024-05-01T07:14:54.060952",
     "exception": false,
     "start_time": "2024-05-01T07:14:54.018119",
     "status": "completed"
    },
    "tags": []
   },
   "source": [
    "We use the entire dataset for better visualization because only test dataset won't give a clear idea because the size of our dataset is too small. Using the complete dataset will enable us to get a better insight.\n",
    "\n",
    "\n",
    " We use the entire dataset for all the visualizations ahead in the notebook too."
   ]
  },
  {
   "cell_type": "code",
   "execution_count": 123,
   "metadata": {
    "execution": {
     "iopub.execute_input": "2024-05-01T07:14:54.151481Z",
     "iopub.status.busy": "2024-05-01T07:14:54.150801Z",
     "iopub.status.idle": "2024-05-01T07:14:54.153110Z",
     "shell.execute_reply": "2024-05-01T07:14:54.153657Z",
     "shell.execute_reply.started": "2024-05-01T07:12:46.969844Z"
    },
    "id": "mCtyxmn3VFWW",
    "papermill": {
     "duration": 0.050004,
     "end_time": "2024-05-01T07:14:54.153843",
     "exception": false,
     "start_time": "2024-05-01T07:14:54.103839",
     "status": "completed"
    },
    "tags": []
   },
   "outputs": [],
   "source": [
    "pred_plot = pred_to_plot(W_trained,X)"
   ]
  },
  {
   "cell_type": "code",
   "execution_count": 124,
   "metadata": {
    "execution": {
     "iopub.execute_input": "2024-05-01T07:14:54.259577Z",
     "iopub.status.busy": "2024-05-01T07:14:54.258876Z",
     "iopub.status.idle": "2024-05-01T07:14:54.442529Z",
     "shell.execute_reply": "2024-05-01T07:14:54.441834Z",
     "shell.execute_reply.started": "2024-05-01T07:12:46.982551Z"
    },
    "id": "eIKBAbF2VFWW",
    "outputId": "6ef358a3-5285-4761-d7a7-cb6e1a9ab77e",
    "papermill": {
     "duration": 0.245711,
     "end_time": "2024-05-01T07:14:54.442704",
     "exception": false,
     "start_time": "2024-05-01T07:14:54.196993",
     "status": "completed"
    },
    "tags": []
   },
   "outputs": [
    {
     "data": {
      "image/png": "[encoded data removed]",
      "text/plain": [
       "<Figure size 640x480 with 1 Axes>"
      ]
     },
     "metadata": {},
     "output_type": "display_data"
    }
   ],
   "source": [
    "plt.scatter(X[:,0], y, color = 'red')\n",
    "plt.plot(X[:,0], pred_plot, color = 'blue')\n",
    "plt.title('Naive Polynomial Regression (N = 2)')\n",
    "plt.xlabel('Position level')\n",
    "plt.ylabel('Salary')\n",
    "plt.show()"
   ]
  },
  {
   "cell_type": "markdown",
   "metadata": {
    "id": "z_xQKHWQZfZ5",
    "papermill": {
     "duration": 0.043943,
     "end_time": "2024-05-01T07:14:54.533810",
     "exception": false,
     "start_time": "2024-05-01T07:14:54.489867",
     "status": "completed"
    },
    "tags": []
   },
   "source": [
    "We have got good results for $N=2$ but we can try for better performance by changing the value of $N$.\n",
    "\n",
    " Let us train the regressor for $N=4$."
   ]
  },
  {
   "cell_type": "markdown",
   "metadata": {
    "id": "bFwXfcNtU-7w",
    "papermill": {
     "duration": 0.043894,
     "end_time": "2024-05-01T07:14:54.622065",
     "exception": false,
     "start_time": "2024-05-01T07:14:54.578171",
     "status": "completed"
    },
    "tags": []
   },
   "source": [
    "### Polynomial Regression (N=4)"
   ]
  },
  {
   "cell_type": "code",
   "execution_count": 125,
   "metadata": {
    "execution": {
     "iopub.execute_input": "2024-05-01T07:14:54.714700Z",
     "iopub.status.busy": "2024-05-01T07:14:54.713995Z",
     "iopub.status.idle": "2024-05-01T07:14:54.716694Z",
     "shell.execute_reply": "2024-05-01T07:14:54.716181Z",
     "shell.execute_reply.started": "2024-05-01T07:12:47.230575Z"
    },
    "id": "m7vCTpzGObUr",
    "papermill": {
     "duration": 0.051051,
     "end_time": "2024-05-01T07:14:54.716845",
     "exception": false,
     "start_time": "2024-05-01T07:14:54.665794",
     "status": "completed"
    },
    "tags": []
   },
   "outputs": [],
   "source": [
    "# Independent Feature\n",
    "X = np.asarray(dataset['Level'].values.tolist())"
   ]
  },
  {
   "cell_type": "code",
   "execution_count": 126,
   "metadata": {
    "execution": {
     "iopub.execute_input": "2024-05-01T07:14:54.809007Z",
     "iopub.status.busy": "2024-05-01T07:14:54.808313Z",
     "iopub.status.idle": "2024-05-01T07:14:54.811421Z",
     "shell.execute_reply": "2024-05-01T07:14:54.810853Z",
     "shell.execute_reply.started": "2024-05-01T07:12:47.238064Z"
    },
    "id": "Rvpp58TTObU0",
    "papermill": {
     "duration": 0.051251,
     "end_time": "2024-05-01T07:14:54.811592",
     "exception": false,
     "start_time": "2024-05-01T07:14:54.760341",
     "status": "completed"
    },
    "tags": []
   },
   "outputs": [],
   "source": [
    "# Reshaping the independent feature\n",
    "X = X.reshape(-1,1)"
   ]
  },
  {
   "cell_type": "code",
   "execution_count": 127,
   "metadata": {
    "execution": {
     "iopub.execute_input": "2024-05-01T07:14:54.906680Z",
     "iopub.status.busy": "2024-05-01T07:14:54.905878Z",
     "iopub.status.idle": "2024-05-01T07:14:54.909171Z",
     "shell.execute_reply": "2024-05-01T07:14:54.908488Z",
     "shell.execute_reply.started": "2024-05-01T07:12:47.252190Z"
    },
    "id": "Ig7uR_ylT6_Q",
    "papermill": {
     "duration": 0.054138,
     "end_time": "2024-05-01T07:14:54.909326",
     "exception": false,
     "start_time": "2024-05-01T07:14:54.855188",
     "status": "completed"
    },
    "tags": []
   },
   "outputs": [
    {
     "name": "stderr",
     "output_type": "stream",
     "text": [
      "C:\\Users\\Administrator\\AppData\\Local\\Temp\\ipykernel_2680\\424119940.py:21: FutureWarning: In a future version, `df.iloc[:, i] = newvals` will attempt to set the values inplace instead of always setting a new array. To retain the old behavior, use either `df[df.columns[i]] = newvals` or, if columns are non-unique, `df.isetitem(i, newvals)`\n",
      "  data.iloc[:,i-1] = (X**i).reshape(-1,1)\n"
     ]
    },
    {
     "data": {
      "text/plain": [
       "array([[ 1],\n",
       "       [ 2],\n",
       "       [ 3],\n",
       "       [ 4],\n",
       "       [ 5],\n",
       "       [ 6],\n",
       "       [ 7],\n",
       "       [ 8],\n",
       "       [ 9],\n",
       "       [10]])"
      ]
     },
     "execution_count": 127,
     "metadata": {},
     "output_type": "execute_result"
    }
   ],
   "source": [
    "# Constructing the polynomials of our Independent features \n",
    "X_poly = poly_features(4,X)"
   ]
  },
  {
   "cell_type": "code",
   "execution_count": 128,
   "metadata": {
    "execution": {
     "iopub.execute_input": "2024-05-01T07:14:55.004165Z",
     "iopub.status.busy": "2024-05-01T07:14:55.003395Z",
     "iopub.status.idle": "2024-05-01T07:14:55.006264Z",
     "shell.execute_reply": "2024-05-01T07:14:55.005665Z",
     "shell.execute_reply.started": "2024-05-01T07:12:47.268360Z"
    },
    "id": "WHGaikOGkSYQ",
    "papermill": {
     "duration": 0.052878,
     "end_time": "2024-05-01T07:14:55.006415",
     "exception": false,
     "start_time": "2024-05-01T07:14:54.953537",
     "status": "completed"
    },
    "tags": []
   },
   "outputs": [],
   "source": [
    "#Adding the feature X0 = 1, so we have the equation: y =  W0 + (W1 * X1) + (W2 * (X1**2))\n",
    "X_poly = np.concatenate((___,___.___((___,___))), axis = 1)"
   ]
  },
  {
   "cell_type": "code",
   "execution_count": 129,
   "metadata": {
    "execution": {
     "iopub.execute_input": "2024-05-01T07:14:55.101492Z",
     "iopub.status.busy": "2024-05-01T07:14:55.100811Z",
     "iopub.status.idle": "2024-05-01T07:14:55.105156Z",
     "shell.execute_reply": "2024-05-01T07:14:55.104452Z",
     "shell.execute_reply.started": "2024-05-01T07:12:47.283058Z"
    },
    "id": "fNkI1FZ9US_f",
    "outputId": "22cd76f5-cb66-4d43-fafb-400c8b7076df",
    "papermill": {
     "duration": 0.053892,
     "end_time": "2024-05-01T07:14:55.105319",
     "exception": false,
     "start_time": "2024-05-01T07:14:55.051427",
     "status": "completed"
    },
    "tags": []
   },
   "outputs": [
    {
     "data": {
      "text/plain": [
       "array([[1.000e+00, 1.000e+00, 1.000e+00, 1.000e+00, 1.000e+00],\n",
       "       [2.000e+00, 4.000e+00, 8.000e+00, 1.600e+01, 1.000e+00],\n",
       "       [3.000e+00, 9.000e+00, 2.700e+01, 8.100e+01, 1.000e+00],\n",
       "       [4.000e+00, 1.600e+01, 6.400e+01, 2.560e+02, 1.000e+00],\n",
       "       [5.000e+00, 2.500e+01, 1.250e+02, 6.250e+02, 1.000e+00],\n",
       "       [6.000e+00, 3.600e+01, 2.160e+02, 1.296e+03, 1.000e+00],\n",
       "       [7.000e+00, 4.900e+01, 3.430e+02, 2.401e+03, 1.000e+00],\n",
       "       [8.000e+00, 6.400e+01, 5.120e+02, 4.096e+03, 1.000e+00],\n",
       "       [9.000e+00, 8.100e+01, 7.290e+02, 6.561e+03, 1.000e+00],\n",
       "       [1.000e+01, 1.000e+02, 1.000e+03, 1.000e+04, 1.000e+00]])"
      ]
     },
     "execution_count": 129,
     "metadata": {},
     "output_type": "execute_result"
    }
   ],
   "source": [
    "X_poly"
   ]
  },
  {
   "cell_type": "code",
   "execution_count": 130,
   "metadata": {
    "execution": {
     "iopub.execute_input": "2024-05-01T07:14:55.199330Z",
     "iopub.status.busy": "2024-05-01T07:14:55.198447Z",
     "iopub.status.idle": "2024-05-01T07:14:55.202702Z",
     "shell.execute_reply": "2024-05-01T07:14:55.202037Z",
     "shell.execute_reply.started": "2024-05-01T07:12:47.300686Z"
    },
    "id": "B_A9RqEVvGbU",
    "outputId": "0501ff00-0a5a-462e-afb2-1564a792e0ee",
    "papermill": {
     "duration": 0.053144,
     "end_time": "2024-05-01T07:14:55.202854",
     "exception": false,
     "start_time": "2024-05-01T07:14:55.149710",
     "status": "completed"
    },
    "tags": []
   },
   "outputs": [
    {
     "data": {
      "text/plain": [
       "array([[  45000],\n",
       "       [  50000],\n",
       "       [  60000],\n",
       "       [  80000],\n",
       "       [ 110000],\n",
       "       [ 150000],\n",
       "       [ 200000],\n",
       "       [ 300000],\n",
       "       [ 500000],\n",
       "       [1000000]])"
      ]
     },
     "execution_count": 130,
     "metadata": {},
     "output_type": "execute_result"
    }
   ],
   "source": [
    "y"
   ]
  },
  {
   "cell_type": "code",
   "execution_count": 131,
   "metadata": {
    "execution": {
     "iopub.execute_input": "2024-05-01T07:14:55.297305Z",
     "iopub.status.busy": "2024-05-01T07:14:55.295983Z",
     "iopub.status.idle": "2024-05-01T07:14:55.299582Z",
     "shell.execute_reply": "2024-05-01T07:14:55.299045Z",
     "shell.execute_reply.started": "2024-05-01T07:12:47.315160Z"
    },
    "id": "SeUC0VYImNlQ",
    "papermill": {
     "duration": 0.052704,
     "end_time": "2024-05-01T07:14:55.299752",
     "exception": false,
     "start_time": "2024-05-01T07:14:55.247048",
     "status": "completed"
    },
    "tags": []
   },
   "outputs": [],
   "source": [
    "#Splitting the dataset\n",
    "X_train, y_train, X_test, y_test = split_data(X_poly,y)"
   ]
  },
  {
   "cell_type": "code",
   "execution_count": 132,
   "metadata": {
    "execution": {
     "iopub.execute_input": "2024-05-01T07:14:55.393929Z",
     "iopub.status.busy": "2024-05-01T07:14:55.392983Z",
     "iopub.status.idle": "2024-05-01T07:14:55.396324Z",
     "shell.execute_reply": "2024-05-01T07:14:55.395777Z",
     "shell.execute_reply.started": "2024-05-01T07:12:47.326815Z"
    },
    "id": "2UU50V05mRoN",
    "papermill": {
     "duration": 0.052175,
     "end_time": "2024-05-01T07:14:55.396475",
     "exception": false,
     "start_time": "2024-05-01T07:14:55.344300",
     "status": "completed"
    },
    "tags": []
   },
   "outputs": [],
   "source": [
    "#declaring the \"regressor\" as an object of the class LinearRegression\n",
    "regressor = polynomialRegression()"
   ]
  },
  {
   "cell_type": "code",
   "execution_count": 133,
   "metadata": {
    "execution": {
     "iopub.execute_input": "2024-05-01T07:14:55.532035Z",
     "iopub.status.busy": "2024-05-01T07:14:55.530726Z",
     "iopub.status.idle": "2024-05-01T07:14:55.931929Z",
     "shell.execute_reply": "2024-05-01T07:14:55.930780Z",
     "shell.execute_reply.started": "2024-05-01T07:12:47.337992Z"
    },
    "id": "5wLjNkQnusqh",
    "papermill": {
     "duration": 0.490952,
     "end_time": "2024-05-01T07:14:55.932132",
     "exception": false,
     "start_time": "2024-05-01T07:14:55.441180",
     "status": "completed"
    },
    "tags": []
   },
   "outputs": [],
   "source": [
    "#Training \n",
    "W_trained, train_loss, num_epochs = regressor.train(X_train, y_train, epochs=1000, alpha=1e-9)"
   ]
  },
  {
   "cell_type": "code",
   "execution_count": 134,
   "metadata": {
    "execution": {
     "iopub.execute_input": "2024-05-01T07:14:56.027963Z",
     "iopub.status.busy": "2024-05-01T07:14:56.027286Z",
     "iopub.status.idle": "2024-05-01T07:14:56.030923Z",
     "shell.execute_reply": "2024-05-01T07:14:56.030002Z",
     "shell.execute_reply.started": "2024-05-01T07:12:47.973821Z"
    },
    "id": "_JQSySiyxJ4n",
    "papermill": {
     "duration": 0.054188,
     "end_time": "2024-05-01T07:14:56.031086",
     "exception": false,
     "start_time": "2024-05-01T07:14:55.976898",
     "status": "completed"
    },
    "tags": []
   },
   "outputs": [],
   "source": [
    "#Testing on the Test Dataset\n",
    "test_pred, test_loss = regressor.test(X_test, y_test, W_trained)"
   ]
  },
  {
   "cell_type": "code",
   "execution_count": 135,
   "metadata": {
    "execution": {
     "iopub.execute_input": "2024-05-01T07:14:56.126356Z",
     "iopub.status.busy": "2024-05-01T07:14:56.125533Z",
     "iopub.status.idle": "2024-05-01T07:14:56.129673Z",
     "shell.execute_reply": "2024-05-01T07:14:56.129118Z",
     "shell.execute_reply.started": "2024-05-01T07:12:47.981251Z"
    },
    "id": "jH63VP1uMs1Z",
    "outputId": "1ee2e59b-e3c4-42c7-e019-7706023f5689",
    "papermill": {
     "duration": 0.054284,
     "end_time": "2024-05-01T07:14:56.129821",
     "exception": false,
     "start_time": "2024-05-01T07:14:56.075537",
     "status": "completed"
    },
    "tags": []
   },
   "outputs": [
    {
     "data": {
      "text/plain": [
       "array([[1.000e+00, 1.000e+00, 1.000e+00, 1.000e+00, 1.000e+00],\n",
       "       [2.000e+00, 4.000e+00, 8.000e+00, 1.600e+01, 1.000e+00],\n",
       "       [3.000e+00, 9.000e+00, 2.700e+01, 8.100e+01, 1.000e+00],\n",
       "       [4.000e+00, 1.600e+01, 6.400e+01, 2.560e+02, 1.000e+00],\n",
       "       [5.000e+00, 2.500e+01, 1.250e+02, 6.250e+02, 1.000e+00],\n",
       "       [6.000e+00, 3.600e+01, 2.160e+02, 1.296e+03, 1.000e+00],\n",
       "       [7.000e+00, 4.900e+01, 3.430e+02, 2.401e+03, 1.000e+00],\n",
       "       [8.000e+00, 6.400e+01, 5.120e+02, 4.096e+03, 1.000e+00],\n",
       "       [9.000e+00, 8.100e+01, 7.290e+02, 6.561e+03, 1.000e+00],\n",
       "       [1.000e+01, 1.000e+02, 1.000e+03, 1.000e+04, 1.000e+00]])"
      ]
     },
     "execution_count": 135,
     "metadata": {},
     "output_type": "execute_result"
    }
   ],
   "source": [
    "X_poly"
   ]
  },
  {
   "cell_type": "markdown",
   "metadata": {
    "id": "LbXBW88kpjmN",
    "papermill": {
     "duration": 0.045032,
     "end_time": "2024-05-01T07:14:56.220227",
     "exception": false,
     "start_time": "2024-05-01T07:14:56.175195",
     "status": "completed"
    },
    "tags": []
   },
   "source": [
    "#### Visualizing Results"
   ]
  },
  {
   "cell_type": "code",
   "execution_count": 136,
   "metadata": {
    "execution": {
     "iopub.execute_input": "2024-05-01T07:14:56.315160Z",
     "iopub.status.busy": "2024-05-01T07:14:56.314482Z",
     "iopub.status.idle": "2024-05-01T07:14:56.318234Z",
     "shell.execute_reply": "2024-05-01T07:14:56.317521Z",
     "shell.execute_reply.started": "2024-05-01T07:12:47.998375Z"
    },
    "id": "13Xa6LURUGDX",
    "papermill": {
     "duration": 0.052924,
     "end_time": "2024-05-01T07:14:56.318389",
     "exception": false,
     "start_time": "2024-05-01T07:14:56.265465",
     "status": "completed"
    },
    "tags": []
   },
   "outputs": [],
   "source": [
    "pred_plot = pred_to_plot(W_trained,X_poly)"
   ]
  },
  {
   "cell_type": "code",
   "execution_count": 137,
   "metadata": {
    "execution": {
     "iopub.execute_input": "2024-05-01T07:14:56.414412Z",
     "iopub.status.busy": "2024-05-01T07:14:56.413754Z",
     "iopub.status.idle": "2024-05-01T07:14:56.420650Z",
     "shell.execute_reply": "2024-05-01T07:14:56.419950Z",
     "shell.execute_reply.started": "2024-05-01T07:12:48.008320Z"
    },
    "id": "FN5hLy2qM6mf",
    "outputId": "a90dc23f-c8d9-42bb-d1c3-92c3c97cfafa",
    "papermill": {
     "duration": 0.056512,
     "end_time": "2024-05-01T07:14:56.420814",
     "exception": false,
     "start_time": "2024-05-01T07:14:56.364302",
     "status": "completed"
    },
    "tags": []
   },
   "outputs": [
    {
     "data": {
      "text/plain": [
       "[101.56686988148302,\n",
       " 1570.332736753576,\n",
       " 7876.252690310476,\n",
       " 24783.645533405484,\n",
       " 60351.39230382515,\n",
       " 124932.93627428928,\n",
       " 231176.28295245094,\n",
       " 394024.0000808964,\n",
       " 630713.2176371454,\n",
       " 960775.6278336504]"
      ]
     },
     "execution_count": 137,
     "metadata": {},
     "output_type": "execute_result"
    }
   ],
   "source": [
    "pred_plot"
   ]
  },
  {
   "cell_type": "code",
   "execution_count": 138,
   "metadata": {
    "execution": {
     "iopub.execute_input": "2024-05-01T07:14:56.533671Z",
     "iopub.status.busy": "2024-05-01T07:14:56.532568Z",
     "iopub.status.idle": "2024-05-01T07:14:56.672805Z",
     "shell.execute_reply": "2024-05-01T07:14:56.672234Z",
     "shell.execute_reply.started": "2024-05-01T07:12:48.023564Z"
    },
    "id": "Ae5Hkdxeorhn",
    "outputId": "7360ebfc-2369-49a2-e6d5-9a75a0909c59",
    "papermill": {
     "duration": 0.206945,
     "end_time": "2024-05-01T07:14:56.672973",
     "exception": false,
     "start_time": "2024-05-01T07:14:56.466028",
     "status": "completed"
    },
    "tags": []
   },
   "outputs": [
    {
     "data": {
      "image/png": "[encoded data removed]",
      "text/plain": [
       "<Figure size 640x480 with 1 Axes>"
      ]
     },
     "metadata": {},
     "output_type": "display_data"
    }
   ],
   "source": [
    "plt.scatter(X_poly[:,0], y, color = 'red')\n",
    "plt.plot(X_poly[:,0], pred_plot, color = 'blue')\n",
    "plt.title('Naive Polynomial Regression (N=4)')\n",
    "plt.xlabel('Position level')\n",
    "plt.ylabel('Salary')\n",
    "plt.show()"
   ]
  },
  {
   "cell_type": "markdown",
   "metadata": {
    "id": "nQBI53TeZ7mq",
    "papermill": {
     "duration": 0.045283,
     "end_time": "2024-05-01T07:14:56.764136",
     "exception": false,
     "start_time": "2024-05-01T07:14:56.718853",
     "status": "completed"
    },
    "tags": []
   },
   "source": [
    "Clearly, the regressor with $N=4$ performs better than the regressor with $N=2$. You can increase the value of $N$ and look for better performance but, be careful that you don't run into the problem of **Overfitting**.\n",
    "\n",
    "As of now, our best regressor has $N=4$ and therefore, we will train the polynomial regression using sklearn only for $N=4$"
   ]
  },
  {
   "cell_type": "markdown",
   "metadata": {
    "id": "v7qN5ze_nCaU",
    "papermill": {
     "duration": 0.045457,
     "end_time": "2024-05-01T07:14:56.856482",
     "exception": false,
     "start_time": "2024-05-01T07:14:56.811025",
     "status": "completed"
    },
    "tags": []
   },
   "source": [
    "## Polynomial Regression using Sklearn"
   ]
  },
  {
   "cell_type": "markdown",
   "metadata": {
    "id": "5qzeCvuHnUkd",
    "papermill": {
     "duration": 0.0455,
     "end_time": "2024-05-01T07:14:56.948224",
     "exception": false,
     "start_time": "2024-05-01T07:14:56.902724",
     "status": "completed"
    },
    "tags": []
   },
   "source": [
    "### Importing dependencies"
   ]
  },
  {
   "cell_type": "code",
   "execution_count": 139,
   "metadata": {
    "execution": {
     "iopub.execute_input": "2024-05-01T07:14:57.048529Z",
     "iopub.status.busy": "2024-05-01T07:14:57.047859Z",
     "iopub.status.idle": "2024-05-01T07:14:58.060786Z",
     "shell.execute_reply": "2024-05-01T07:14:58.060174Z",
     "shell.execute_reply.started": "2024-05-01T07:12:48.213776Z"
    },
    "id": "WxTLPi00nPlR",
    "papermill": {
     "duration": 1.065623,
     "end_time": "2024-05-01T07:14:58.060960",
     "exception": false,
     "start_time": "2024-05-01T07:14:56.995337",
     "status": "completed"
    },
    "tags": []
   },
   "outputs": [],
   "source": [
    "import numpy as np\n",
    "import pandas\n",
    "import matplotlib.pyplot as plt \n",
    "from sklearn.model_selection import train_test_split\n",
    "from sklearn.linear_model import LinearRegression\n",
    "from sklearn.preprocessing import PolynomialFeatures"
   ]
  },
  {
   "cell_type": "markdown",
   "metadata": {
    "id": "6n4bZLnyoRBF",
    "papermill": {
     "duration": 0.045381,
     "end_time": "2024-05-01T07:14:58.151993",
     "exception": false,
     "start_time": "2024-05-01T07:14:58.106612",
     "status": "completed"
    },
    "tags": []
   },
   "source": [
    "### Data Preprocessing"
   ]
  },
  {
   "cell_type": "code",
   "execution_count": 140,
   "metadata": {
    "execution": {
     "iopub.execute_input": "2024-05-01T07:14:58.249354Z",
     "iopub.status.busy": "2024-05-01T07:14:58.248630Z",
     "iopub.status.idle": "2024-05-01T07:14:58.255864Z",
     "shell.execute_reply": "2024-05-01T07:14:58.255150Z",
     "shell.execute_reply.started": "2024-05-01T07:12:49.481564Z"
    },
    "id": "9RVobIAMoUJP",
    "papermill": {
     "duration": 0.058332,
     "end_time": "2024-05-01T07:14:58.256033",
     "exception": false,
     "start_time": "2024-05-01T07:14:58.197701",
     "status": "completed"
    },
    "tags": []
   },
   "outputs": [],
   "source": [
    "#Get the Dataset and separating the independent and dependent features\n",
    "dataset = pd.read_csv(r'../../dataset/Position_Salaries.csv')\n",
    "X_sk = dataset.iloc[:, 1].values\n",
    "y_sk = dataset.iloc[:, -1].values"
   ]
  },
  {
   "cell_type": "code",
   "execution_count": 141,
   "metadata": {
    "execution": {
     "iopub.execute_input": "2024-05-01T07:14:58.353873Z",
     "iopub.status.busy": "2024-05-01T07:14:58.352893Z",
     "iopub.status.idle": "2024-05-01T07:14:58.356255Z",
     "shell.execute_reply": "2024-05-01T07:14:58.355586Z",
     "shell.execute_reply.started": "2024-05-01T07:12:49.496307Z"
    },
    "id": "Us4eMetBR6hA",
    "papermill": {
     "duration": 0.054227,
     "end_time": "2024-05-01T07:14:58.356415",
     "exception": false,
     "start_time": "2024-05-01T07:14:58.302188",
     "status": "completed"
    },
    "tags": []
   },
   "outputs": [],
   "source": [
    "#Reshaping the Independent amd Dependent Features\n",
    "X_sk = X_sk.reshape(-1,1)\n",
    "y_sk = y_sk.reshape(-1,1)"
   ]
  },
  {
   "cell_type": "code",
   "execution_count": 142,
   "metadata": {
    "execution": {
     "iopub.execute_input": "2024-05-01T07:14:58.454567Z",
     "iopub.status.busy": "2024-05-01T07:14:58.453700Z",
     "iopub.status.idle": "2024-05-01T07:14:58.456848Z",
     "shell.execute_reply": "2024-05-01T07:14:58.456274Z",
     "shell.execute_reply.started": "2024-05-01T07:12:49.507488Z"
    },
    "id": "aL1_GomWS7hx",
    "papermill": {
     "duration": 0.054799,
     "end_time": "2024-05-01T07:14:58.457013",
     "exception": false,
     "start_time": "2024-05-01T07:14:58.402214",
     "status": "completed"
    },
    "tags": []
   },
   "outputs": [],
   "source": [
    "# Constructing the polynomials of our Independent features \n",
    "poly_reg = PolynomialFeatures(degree = 4)\n",
    "X_poly_sk = poly_reg.fit_transform(X_sk)"
   ]
  },
  {
   "cell_type": "code",
   "execution_count": 143,
   "metadata": {
    "execution": {
     "iopub.execute_input": "2024-05-01T07:14:58.556218Z",
     "iopub.status.busy": "2024-05-01T07:14:58.555113Z",
     "iopub.status.idle": "2024-05-01T07:14:58.559351Z",
     "shell.execute_reply": "2024-05-01T07:14:58.558685Z",
     "shell.execute_reply.started": "2024-05-01T07:12:49.516468Z"
    },
    "id": "RfpkKXFR7yWu",
    "outputId": "28f2b2e5-56fa-416b-a0ff-51a0cc654937",
    "papermill": {
     "duration": 0.055931,
     "end_time": "2024-05-01T07:14:58.559530",
     "exception": false,
     "start_time": "2024-05-01T07:14:58.503599",
     "status": "completed"
    },
    "tags": []
   },
   "outputs": [
    {
     "name": "stdout",
     "output_type": "stream",
     "text": [
      "The shape of the independent fatures are  (10, 5)\n",
      "The shape of the dependent fatures are  (10, 1)\n"
     ]
    }
   ],
   "source": [
    "#Get the shapes of X and y\n",
    "print(\"The shape of the independent fatures are \",X_poly_sk.shape)\n",
    "print(\"The shape of the dependent fatures are \",y_sk.shape)"
   ]
  },
  {
   "cell_type": "code",
   "execution_count": 144,
   "metadata": {
    "execution": {
     "iopub.execute_input": "2024-05-01T07:14:58.660991Z",
     "iopub.status.busy": "2024-05-01T07:14:58.660101Z",
     "iopub.status.idle": "2024-05-01T07:14:58.663642Z",
     "shell.execute_reply": "2024-05-01T07:14:58.664169Z",
     "shell.execute_reply.started": "2024-05-01T07:12:49.529884Z"
    },
    "id": "gngrHYRGT3aR",
    "outputId": "9b2eca00-eca4-4678-b378-648f3965ab55",
    "papermill": {
     "duration": 0.057426,
     "end_time": "2024-05-01T07:14:58.664354",
     "exception": false,
     "start_time": "2024-05-01T07:14:58.606928",
     "status": "completed"
    },
    "tags": []
   },
   "outputs": [
    {
     "data": {
      "text/plain": [
       "array([[1.000e+00, 1.000e+00, 1.000e+00, 1.000e+00, 1.000e+00],\n",
       "       [1.000e+00, 2.000e+00, 4.000e+00, 8.000e+00, 1.600e+01],\n",
       "       [1.000e+00, 3.000e+00, 9.000e+00, 2.700e+01, 8.100e+01],\n",
       "       [1.000e+00, 4.000e+00, 1.600e+01, 6.400e+01, 2.560e+02],\n",
       "       [1.000e+00, 5.000e+00, 2.500e+01, 1.250e+02, 6.250e+02],\n",
       "       [1.000e+00, 6.000e+00, 3.600e+01, 2.160e+02, 1.296e+03],\n",
       "       [1.000e+00, 7.000e+00, 4.900e+01, 3.430e+02, 2.401e+03],\n",
       "       [1.000e+00, 8.000e+00, 6.400e+01, 5.120e+02, 4.096e+03],\n",
       "       [1.000e+00, 9.000e+00, 8.100e+01, 7.290e+02, 6.561e+03],\n",
       "       [1.000e+00, 1.000e+01, 1.000e+02, 1.000e+03, 1.000e+04]])"
      ]
     },
     "execution_count": 144,
     "metadata": {},
     "output_type": "execute_result"
    }
   ],
   "source": [
    "X_poly_sk"
   ]
  },
  {
   "cell_type": "markdown",
   "metadata": {
    "id": "HHBdiwMyo8c0",
    "papermill": {
     "duration": 0.048004,
     "end_time": "2024-05-01T07:14:58.758927",
     "exception": false,
     "start_time": "2024-05-01T07:14:58.710923",
     "status": "completed"
    },
    "tags": []
   },
   "source": [
    "### Polynomial Regression"
   ]
  },
  {
   "cell_type": "code",
   "execution_count": 145,
   "metadata": {
    "execution": {
     "iopub.execute_input": "2024-05-01T07:14:58.865617Z",
     "iopub.status.busy": "2024-05-01T07:14:58.864497Z",
     "iopub.status.idle": "2024-05-01T07:14:58.867696Z",
     "shell.execute_reply": "2024-05-01T07:14:58.866984Z",
     "shell.execute_reply.started": "2024-05-01T07:12:49.543155Z"
    },
    "id": "y2SAKXOUo07O",
    "papermill": {
     "duration": 0.059929,
     "end_time": "2024-05-01T07:14:58.867857",
     "exception": false,
     "start_time": "2024-05-01T07:14:58.807928",
     "status": "completed"
    },
    "tags": []
   },
   "outputs": [],
   "source": [
    "# Splitting the dataset into the Training set and Test set\n",
    "X_train_sk, X_test_sk, y_train_sk, y_test_sk = train_test_split(X_poly_sk, y_sk, test_size = 0.2, random_state = 0)"
   ]
  },
  {
   "cell_type": "code",
   "execution_count": 146,
   "metadata": {
    "execution": {
     "iopub.execute_input": "2024-05-01T07:14:58.977539Z",
     "iopub.status.busy": "2024-05-01T07:14:58.976717Z",
     "iopub.status.idle": "2024-05-01T07:14:58.995589Z",
     "shell.execute_reply": "2024-05-01T07:14:58.994914Z",
     "shell.execute_reply.started": "2024-05-01T07:12:49.555438Z"
    },
    "id": "M_ZxKwyzpAuo",
    "outputId": "be5437c9-3d8e-4971-80c2-933f249ba80e",
    "papermill": {
     "duration": 0.078929,
     "end_time": "2024-05-01T07:14:58.995760",
     "exception": false,
     "start_time": "2024-05-01T07:14:58.916831",
     "status": "completed"
    },
    "tags": []
   },
   "outputs": [
    {
     "data": {
      "text/html": [
       "<style>#sk-container-id-3 {color: black;background-color: white;}#sk-container-id-3 pre{padding: 0;}#sk-container-id-3 div.sk-toggleable {background-color: white;}#sk-container-id-3 label.sk-toggleable__label {cursor: pointer;display: block;width: 100%;margin-bottom: 0;padding: 0.3em;box-sizing: border-box;text-align: center;}#sk-container-id-3 label.sk-toggleable__label-arrow:before {content: \"▸\";float: left;margin-right: 0.25em;color: #696969;}#sk-container-id-3 label.sk-toggleable__label-arrow:hover:before {color: black;}#sk-container-id-3 div.sk-estimator:hover label.sk-toggleable__label-arrow:before {color: black;}#sk-container-id-3 div.sk-toggleable__content {max-height: 0;max-width: 0;overflow: hidden;text-align: left;background-color: #f0f8ff;}#sk-container-id-3 div.sk-toggleable__content pre {margin: 0.2em;color: black;border-radius: 0.25em;background-color: #f0f8ff;}#sk-container-id-3 input.sk-toggleable__control:checked~div.sk-toggleable__content {max-height: 200px;max-width: 100%;overflow: auto;}#sk-container-id-3 input.sk-toggleable__control:checked~label.sk-toggleable__label-arrow:before {content: \"▾\";}#sk-container-id-3 div.sk-estimator input.sk-toggleable__control:checked~label.sk-toggleable__label {background-color: #d4ebff;}#sk-container-id-3 div.sk-label input.sk-toggleable__control:checked~label.sk-toggleable__label {background-color: #d4ebff;}#sk-container-id-3 input.sk-hidden--visually {border: 0;clip: rect(1px 1px 1px 1px);clip: rect(1px, 1px, 1px, 1px);height: 1px;margin: -1px;overflow: hidden;padding: 0;position: absolute;width: 1px;}#sk-container-id-3 div.sk-estimator {font-family: monospace;background-color: #f0f8ff;border: 1px dotted black;border-radius: 0.25em;box-sizing: border-box;margin-bottom: 0.5em;}#sk-container-id-3 div.sk-estimator:hover {background-color: #d4ebff;}#sk-container-id-3 div.sk-parallel-item::after {content: \"\";width: 100%;border-bottom: 1px solid gray;flex-grow: 1;}#sk-container-id-3 div.sk-label:hover label.sk-toggleable__label {background-color: #d4ebff;}#sk-container-id-3 div.sk-serial::before {content: \"\";position: absolute;border-left: 1px solid gray;box-sizing: border-box;top: 0;bottom: 0;left: 50%;z-index: 0;}#sk-container-id-3 div.sk-serial {display: flex;flex-direction: column;align-items: center;background-color: white;padding-right: 0.2em;padding-left: 0.2em;position: relative;}#sk-container-id-3 div.sk-item {position: relative;z-index: 1;}#sk-container-id-3 div.sk-parallel {display: flex;align-items: stretch;justify-content: center;background-color: white;position: relative;}#sk-container-id-3 div.sk-item::before, #sk-container-id-3 div.sk-parallel-item::before {content: \"\";position: absolute;border-left: 1px solid gray;box-sizing: border-box;top: 0;bottom: 0;left: 50%;z-index: -1;}#sk-container-id-3 div.sk-parallel-item {display: flex;flex-direction: column;z-index: 1;position: relative;background-color: white;}#sk-container-id-3 div.sk-parallel-item:first-child::after {align-self: flex-end;width: 50%;}#sk-container-id-3 div.sk-parallel-item:last-child::after {align-self: flex-start;width: 50%;}#sk-container-id-3 div.sk-parallel-item:only-child::after {width: 0;}#sk-container-id-3 div.sk-dashed-wrapped {border: 1px dashed gray;margin: 0 0.4em 0.5em 0.4em;box-sizing: border-box;padding-bottom: 0.4em;background-color: white;}#sk-container-id-3 div.sk-label label {font-family: monospace;font-weight: bold;display: inline-block;line-height: 1.2em;}#sk-container-id-3 div.sk-label-container {text-align: center;}#sk-container-id-3 div.sk-container {/* jupyter's `normalize.less` sets `[hidden] { display: none; }` but bootstrap.min.css set `[hidden] { display: none !important; }` so we also need the `!important` here to be able to override the default hidden behavior on the sphinx rendered scikit-learn.org. See: https://github.com/scikit-learn/scikit-learn/issues/21755 */display: inline-block !important;position: relative;}#sk-container-id-3 div.sk-text-repr-fallback {display: none;}</style><div id=\"sk-container-id-3\" class=\"sk-top-container\"><div class=\"sk-text-repr-fallback\"><pre>LinearRegression()</pre><b>In a Jupyter environment, please rerun this cell to show the HTML representation or trust the notebook. <br />On GitHub, the HTML representation is unable to render, please try loading this page with nbviewer.org.</b></div><div class=\"sk-container\" hidden><div class=\"sk-item\"><div class=\"sk-estimator sk-toggleable\"><input class=\"sk-toggleable__control sk-hidden--visually\" id=\"sk-estimator-id-3\" type=\"checkbox\" checked><label for=\"sk-estimator-id-3\" class=\"sk-toggleable__label sk-toggleable__label-arrow\">LinearRegression</label><div class=\"sk-toggleable__content\"><pre>LinearRegression()</pre></div></div></div></div></div>"
      ],
      "text/plain": [
       "LinearRegression()"
      ]
     },
     "execution_count": 146,
     "metadata": {},
     "output_type": "execute_result"
    }
   ],
   "source": [
    "# Fitting Simple Linear Regression to the Training set\n",
    "regressor_sk = LinearRegression()\n",
    "regressor_sk.fit(X_train_sk, y_train_sk)"
   ]
  },
  {
   "cell_type": "markdown",
   "metadata": {
    "id": "WjeXeDr1UWVp",
    "papermill": {
     "duration": 0.049594,
     "end_time": "2024-05-01T07:14:59.096806",
     "exception": false,
     "start_time": "2024-05-01T07:14:59.047212",
     "status": "completed"
    },
    "tags": []
   },
   "source": [
    "#### Visualizing the results"
   ]
  },
  {
   "cell_type": "code",
   "execution_count": 147,
   "metadata": {
    "execution": {
     "iopub.execute_input": "2024-05-01T07:14:59.197337Z",
     "iopub.status.busy": "2024-05-01T07:14:59.196492Z",
     "iopub.status.idle": "2024-05-01T07:14:59.358518Z",
     "shell.execute_reply": "2024-05-01T07:14:59.357796Z",
     "shell.execute_reply.started": "2024-05-01T07:12:49.588980Z"
    },
    "id": "W3kkUQvJUaVD",
    "outputId": "7af96588-ba64-4482-943b-1038821f3633",
    "papermill": {
     "duration": 0.213609,
     "end_time": "2024-05-01T07:14:59.358736",
     "exception": false,
     "start_time": "2024-05-01T07:14:59.145127",
     "status": "completed"
    },
    "tags": []
   },
   "outputs": [
    {
     "data": {
      "image/png": "[encoded data removed]",
      "text/plain": [
       "<Figure size 640x480 with 1 Axes>"
      ]
     },
     "metadata": {},
     "output_type": "display_data"
    }
   ],
   "source": [
    "plt.scatter(X_poly_sk[:,1], y, color = 'red')\n",
    "plt.plot(X_poly_sk[:,1], regressor_sk.predict(X_poly_sk), color = 'blue')\n",
    "plt.title('Sklearn regression')\n",
    "plt.xlabel('Position level')\n",
    "plt.ylabel('Salary')\n",
    "plt.show()"
   ]
  },
  {
   "cell_type": "markdown",
   "metadata": {
    "id": "-cdYj7q_eNl2",
    "papermill": {
     "duration": 0.049179,
     "end_time": "2024-05-01T07:14:59.458409",
     "exception": false,
     "start_time": "2024-05-01T07:14:59.409230",
     "status": "completed"
    },
    "tags": []
   },
   "source": [
    "## Acknowledgments\n",
    "\n",
    "Thanks to [Jay Pradip Shah](https://www.kaggle.com/jaypradipshah) for creating the open-source course [Polynomial Regression from scratch](https://www.kaggle.com/code/jaypradipshah/polynomial-regression-from-scratch). It inspires the majority of the content in this chapter.\n",
    "\n"
   ]
  }
 ],
 "metadata": {
  "kaggle": {
   "accelerator": "none",
   "dataSources": [
    {
     "datasetId": 1155981,
     "sourceId": 1937809,
     "sourceType": "datasetVersion"
    }
   ],
   "dockerImageVersionId": 30060,
   "isGpuEnabled": false,
   "isInternetEnabled": false,
   "language": "python",
   "sourceType": "notebook"
  },
  "kernelspec": {
   "display_name": "Python 3",
   "language": "python",
   "name": "python3"
  },
  "language_info": {
   "codemirror_mode": {
    "name": "ipython",
    "version": 3
   },
   "file_extension": ".py",
   "mimetype": "text/x-python",
   "name": "python",
   "nbconvert_exporter": "python",
   "pygments_lexer": "ipython3",
   "version": "3.9.18"
  },
  "papermill": {
   "default_parameters": {},
   "duration": 14.973394,
   "end_time": "2024-05-01T07:15:00.116476",
   "environment_variables": {},
   "exception": null,
   "input_path": "__notebook__.ipynb",
   "output_path": "__notebook__.ipynb",
   "parameters": {},
   "start_time": "2024-05-01T07:14:45.143082",
   "version": "2.2.2"
  }
 },
 "nbformat": 4,
 "nbformat_minor": 4
}
