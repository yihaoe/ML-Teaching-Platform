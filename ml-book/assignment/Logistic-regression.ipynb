{
 "cells": [
  {
   "cell_type": "code",
   "execution_count": 3,
   "metadata": {},
   "outputs": [],
   "source": [
    "# set up the env\n",
    "\n",
    "import pytest\n",
    "import ipytest\n",
    "import unittest\n",
    "import numpy as np\n",
    "\n",
    "ipytest.autoconfig()"
   ]
  },
  {
   "cell_type": "markdown",
   "metadata": {},
   "source": [
    "# ML logistic regression - assignment 2\n",
    "\n",
    "## Logistic Regression from scratch"
   ]
  },
  {
   "cell_type": "code",
   "execution_count": 4,
   "metadata": {},
   "outputs": [],
   "source": [
    "class MyOwnLogisticRegression:\n",
    "    def __init__(self, learning_rate=0.001, n_iters=1000):\n",
    "        self.lr = learning_rate\n",
    "        self.n_iters = n_iters\n",
    "        self.weights = None\n",
    "        self.bias = None\n",
    "\n",
    "    def fit(self, X, y):\n",
    "        n_samples, n_features = X.shape\n",
    "\n",
    "        # init parameters\n",
    "        self.weights = np.zeros(n_features)\n",
    "        self.bias = 0\n",
    "\n",
    "        # gradient descent\n",
    "        for _ in range(self.n_iters):\n",
    "            # approximate y with linear combination of weights and x, plus bias\n",
    "            linear_model = np.dot(X, self.___) + self.___\n",
    "            # apply sigmoid function\n",
    "            y_predicted = self._sigmoid(linear_model)\n",
    "\n",
    "            # compute gradients\n",
    "            dw = (1 / n_samples) * np.dot(X.T, (___ - ___))\n",
    "            db = (1 / n_samples) * np.sum(___ - ___)\n",
    "            # update parameters\n",
    "            self.weights -= self.lr * ___\n",
    "            self.bias -= self.lr * ___\n",
    "\n",
    "    def predict(self, X):\n",
    "        linear_model = np.dot(X, self.___) + self.___\n",
    "        y_predicted = self._sigmoid(linear_model)\n",
    "        y_predicted_cls = [1 if i > 0.5 else 0 for i in y_predicted]\n",
    "        return np.array(y_predicted_cls)\n",
    "\n",
    "    def _sigmoid(self, x):\n",
    "        return 1 / (1 + np.___(___))"
   ]
  },
  {
   "cell_type": "code",
   "execution_count": 15,
   "metadata": {},
   "outputs": [
    {
     "name": "stdout",
     "output_type": "stream",
     "text": [
      "[0 1]\n"
     ]
    }
   ],
   "source": [
    "# Set an example\n",
    "X_train = np.array([[1, 2], [2, 3], [3, 4], [4, 5],[2, 2], [4, 6], [0.5, 2], [4, 5.5]])\n",
    "y_train = np.array([0, 0, 0, 1, 0, 1, 0, 1])\n",
    "\n",
    "# Use MyOwnLogisticRegression mode\n",
    "model = MyOwnLogisticRegression()\n",
    "\n",
    "model.fit(X_train, y_train)\n",
    "\n",
    "# Create a test dataset\n",
    "X_test = np.array([[1, 2], [2, 3]])\n",
    "\n",
    "# Use predict\n",
    "predictions = model.predict(X_test)\n",
    "print(predictions)\n"
   ]
  },
  {
   "cell_type": "code",
   "execution_count": 17,
   "metadata": {},
   "outputs": [
    {
     "name": "stdout",
     "output_type": "stream",
     "text": [
      "\u001b[32m.\u001b[0m\u001b[32m.\u001b[0m\u001b[32m.\u001b[0m\u001b[32m.\u001b[0m\u001b[32m.\u001b[0m\u001b[32m                                                                                        [100%]\u001b[0m\n"
     ]
    }
   ],
   "source": [
    "%%ipytest -qq\n",
    "\n",
    "class Test_MyOwnLogisticRegression:\n",
    "    def test_fit(self):\n",
    "        # Test if the fit method works properly\n",
    "        model = MyOwnLogisticRegression()\n",
    "        model.fit(X_train, y_train)\n",
    "        assert model.weights is not None\n",
    "        assert model.bias is not None\n",
    "\n",
    "    def test_predict(self):\n",
    "        # Test if the predict method works properly\n",
    "        model = MyOwnLogisticRegression()\n",
    "        model.fit(X_train, y_train)\n",
    "        y_pred = model.predict(X_test)\n",
    "        assert len(y_pred) == len(X_test)\n",
    "\n",
    "    def test_sigmoid(self):\n",
    "        # Test if the sigmoid function works properly\n",
    "        model = MyOwnLogisticRegression()\n",
    "        assert model._sigmoid(0) == 0.5\n",
    "        assert model._sigmoid(10) == pytest.approx(0.9999546021312976)\n",
    "\n",
    "    def test_model_performance(self):\n",
    "        # Test the performance of the model on the training data\n",
    "        model = MyOwnLogisticRegression()\n",
    "        model.fit(X_train, y_train)\n",
    "        y_pred_train = model.predict(X_train)\n",
    "        accuracy = np.mean(y_pred_train == y_train)\n",
    "        assert accuracy >= 0.5  # Since no cross-validation is performed, accuracy should be at least 0.5\n",
    "\n",
    "    def test_initialization(self):\n",
    "        # Test if the initialization parameters are effective\n",
    "        model = MyOwnLogisticRegression(learning_rate=0.01, n_iters=2000)\n",
    "        assert model.lr == 0.01\n",
    "        assert model.n_iters == 2000\n"
   ]
  }
 ],
 "metadata": {
  "kernelspec": {
   "display_name": "open-machine-learning-jupyter-book",
   "language": "python",
   "name": "python3"
  },
  "language_info": {
   "codemirror_mode": {
    "name": "ipython",
    "version": 3
   },
   "file_extension": ".py",
   "mimetype": "text/x-python",
   "name": "python",
   "nbconvert_exporter": "python",
   "pygments_lexer": "ipython3",
   "version": "3.9.18"
  }
 },
 "nbformat": 4,
 "nbformat_minor": 2
}
