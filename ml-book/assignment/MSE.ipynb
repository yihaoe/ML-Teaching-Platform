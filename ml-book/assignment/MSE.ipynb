{
 "cells": [
  {
   "cell_type": "code",
   "execution_count": 63,
   "metadata": {},
   "outputs": [],
   "source": [
    "# set up the env\n",
    "\n",
    "import pytest\n",
    "import ipytest\n",
    "import unittest\n",
    "import numpy as np\n",
    "\n",
    "ipytest.autoconfig()"
   ]
  },
  {
   "cell_type": "markdown",
   "metadata": {},
   "source": [
    "# Mean Squared Error (MSE)"
   ]
  },
  {
   "cell_type": "markdown",
   "metadata": {},
   "source": [
    "In the realm of linear regression metrics, one fundamental measure of model performance is the **Mean Squared Error (MSE)**. MSE serves as a valuable indicator of how well your linear regression model aligns its predictions with the actual data points. This metric quantifies the average of the squared differences between predicted values and observed values."
   ]
  },
  {
   "cell_type": "markdown",
   "metadata": {},
   "source": [
    "## The Formula"
   ]
  },
  {
   "cell_type": "markdown",
   "metadata": {},
   "source": [
    "Mathematically, the MSE is computed using the following formula:"
   ]
  },
  {
   "cell_type": "markdown",
   "metadata": {
    "vscode": {
     "languageId": "plaintext"
    }
   },
   "source": [
    "$$ MSE = \\frac{1}{n} \\sum_{i=1}^{n} (y_i - \\hat{y}_i)^2 $$"
   ]
  },
  {
   "cell_type": "markdown",
   "metadata": {},
   "source": [
    "Where:\n",
    "\n",
    "- $n$ is the number of data points.\n",
    "- $y_i$ represents the actual observed value for the $i^{th}$ data point.\n",
    "- $\\hat{y}_i$ represents the predicted value for the $i^{th}$ data point."
   ]
  },
  {
   "cell_type": "markdown",
   "metadata": {},
   "source": [
    "## Python Implementation"
   ]
  },
  {
   "cell_type": "code",
   "execution_count": 64,
   "metadata": {},
   "outputs": [
    {
     "name": "stdout",
     "output_type": "stream",
     "text": [
      "Mean Squared Error: 0.5079999999999996\n"
     ]
    }
   ],
   "source": [
    "def mean_squared_error(y_true, y_pred):\n",
    "    \"\"\"\n",
    "    Calculate the Mean Squared Error (MSE).\n",
    "\n",
    "    Parameters:\n",
    "    y_true -- Actual values, can be a list, array, or other sequence.\n",
    "    y_pred -- Predicted values, can be a list, array, or other sequence.\n",
    "\n",
    "    Returns:\n",
    "    mse -- Mean Squared Error.\n",
    "    \"\"\"\n",
    "    # Ensure that the lengths of the input lists are the same\n",
    "    if len(___) != len(___):\n",
    "        raise ValueError(\"Length mismatch: y_true and y_pred\")\n",
    "\n",
    "    # Calculate the Mean Squared Error\n",
    "    squared_errors = (___ - ___) ** 2\n",
    "    mse = np.___(squared_errors)\n",
    "\n",
    "    return mse\n",
    "\n",
    "# Example\n",
    "y_true = np.array([22.1, 19.9, 24.5, 20.1, 18.7])\n",
    "y_pred = np.array([23.5, 20.2, 23.9, 19.8, 18.5])\n",
    "mse = mean_squared_error(y_true, y_pred)\n",
    "print(\"Mean Squared Error:\", mse)\n",
    "\n",
    "assert mse == 0.5079999999999996"
   ]
  },
  {
   "cell_type": "markdown",
   "metadata": {},
   "source": [
    "<h5><font color=blue>Check result by executing below... 📝</font></h5>\n"
   ]
  },
  {
   "cell_type": "code",
   "execution_count": 65,
   "metadata": {},
   "outputs": [
    {
     "name": "stdout",
     "output_type": "stream",
     "text": [
      "\u001b[32m.\u001b[0m\u001b[32m.\u001b[0m\u001b[32m.\u001b[0m\u001b[32m                                                                                          [100%]\u001b[0m\n"
     ]
    }
   ],
   "source": [
    "%%ipytest -qq\n",
    "\n",
    "class Test_MSE:\n",
    "    def test_mean_squared_error_identical_values(self):\n",
    "    # Test when the predicted values are identical to the actual values, the mean squared error should be 0\n",
    "        y_true = np.array([3, -0.5, 2, 7])\n",
    "        y_pred = np.array([3, -0.5, 2, 7])\n",
    "        assert mean_squared_error(y_true, y_pred) == 0\n",
    "\n",
    "    def test_mean_squared_error_all_zeros(self):\n",
    "    # Test when all predicted values are 0, the mean squared error should equal the sum of squares of actual values divided by the number of actual values\n",
    "        y_true = np.array([1, 2, 3, 4, 5])\n",
    "        y_pred = np.array([0, 0, 0, 0, 0])\n",
    "        assert mean_squared_error(y_true, y_pred) == 11.0\n",
    "\n",
    "    def test_mean_squared_error_length_mismatch(self):\n",
    "    # Test for the case of mismatched lengths\n",
    "        y_true = np.array([1, 2, 3])\n",
    "        y_pred = np.array([1, 2, 3, 4])\n",
    "        with pytest.raises(ValueError):\n",
    "            mean_squared_error(y_true, y_pred)\n"
   ]
  }
 ],
 "metadata": {
  "kernelspec": {
   "display_name": "open-machine-learning-jupyter-book",
   "language": "python",
   "name": "python3"
  },
  "language_info": {
   "codemirror_mode": {
    "name": "ipython",
    "version": 3
   },
   "file_extension": ".py",
   "mimetype": "text/x-python",
   "name": "python",
   "nbconvert_exporter": "python",
   "pygments_lexer": "ipython3",
   "version": "3.9.18"
  }
 },
 "nbformat": 4,
 "nbformat_minor": 2
}
